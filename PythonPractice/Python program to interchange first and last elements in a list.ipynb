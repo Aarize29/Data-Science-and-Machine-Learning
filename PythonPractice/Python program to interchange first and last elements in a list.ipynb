{
 "cells": [
  {
   "cell_type": "markdown",
   "id": "6ed87066",
   "metadata": {},
   "source": [
    "Python program to interchange first and last elements in a list"
   ]
  },
  {
   "cell_type": "code",
   "execution_count": 1,
   "id": "558ab755",
   "metadata": {},
   "outputs": [
    {
     "data": {
      "text/plain": [
       "[5, 2, 3, 4, 1]"
      ]
     },
     "execution_count": 1,
     "metadata": {},
     "output_type": "execute_result"
    }
   ],
   "source": [
    "list=[1,2,3,4,5]\n",
    "#approach 1\n",
    "def swap(list):\n",
    "    temp=list[0]\n",
    "    list[0]=list[len(list)-1]\n",
    "    list[len(list)-1]=temp\n",
    "    \n",
    "    return list\n",
    "swap(list)   "
   ]
  },
  {
   "cell_type": "code",
   "execution_count": 2,
   "id": "63ab29b5",
   "metadata": {},
   "outputs": [
    {
     "data": {
      "text/plain": [
       "[5, 2, 3, 4, 1]"
      ]
     },
     "execution_count": 2,
     "metadata": {},
     "output_type": "execute_result"
    }
   ],
   "source": [
    "list=[1,2,3,4,5]\n",
    "#approach 2\n",
    "def swap(list):\n",
    "    a=list.pop(0)\n",
    "    b=list.pop(len(list)-1)\n",
    "    \n",
    "    list.insert(0,b)\n",
    "    list.append(a)\n",
    "    return list\n",
    "swap(list)"
   ]
  },
  {
   "cell_type": "code",
   "execution_count": 3,
   "id": "d3a6f831",
   "metadata": {},
   "outputs": [
    {
     "data": {
      "text/plain": [
       "[5, 2, 3, 4, 1]"
      ]
     },
     "execution_count": 3,
     "metadata": {},
     "output_type": "execute_result"
    }
   ],
   "source": [
    "list=[1,2,3,4,5]\n",
    "#approach 3\n",
    "def swap(list):\n",
    "    list[0],list[-1]=list[-1],list[0]\n",
    "    return list\n",
    "swap(list)"
   ]
  },
  {
   "cell_type": "code",
   "execution_count": 5,
   "id": "c5a291dd",
   "metadata": {},
   "outputs": [
    {
     "data": {
      "text/plain": [
       "[5, 2, 3, 4, 1]"
      ]
     },
     "execution_count": 5,
     "metadata": {},
     "output_type": "execute_result"
    }
   ],
   "source": [
    "list=[1,2,3,4,5]\n",
    "#approach 4\n",
    "def swap(list):\n",
    "    #use of * operand\n",
    "    start,*middle, end=list\n",
    "    list=[end,*middle,start]\n",
    "    return list\n",
    "swap(list)"
   ]
  },
  {
   "cell_type": "code",
   "execution_count": null,
   "id": "16729d12",
   "metadata": {},
   "outputs": [],
   "source": []
  }
 ],
 "metadata": {
  "kernelspec": {
   "display_name": "Python 3 (ipykernel)",
   "language": "python",
   "name": "python3"
  },
  "language_info": {
   "codemirror_mode": {
    "name": "ipython",
    "version": 3
   },
   "file_extension": ".py",
   "mimetype": "text/x-python",
   "name": "python",
   "nbconvert_exporter": "python",
   "pygments_lexer": "ipython3",
   "version": "3.9.13"
  }
 },
 "nbformat": 4,
 "nbformat_minor": 5
}
