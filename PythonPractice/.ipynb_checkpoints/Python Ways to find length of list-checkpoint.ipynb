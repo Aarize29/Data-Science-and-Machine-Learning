{
 "cells": [
  {
   "cell_type": "markdown",
   "id": "0d10f1cb",
   "metadata": {},
   "source": [
    "Python | Ways to find length of list"
   ]
  },
  {
   "cell_type": "code",
   "execution_count": 7,
   "id": "4deb593a",
   "metadata": {},
   "outputs": [
    {
     "data": {
      "text/plain": [
       "5"
      ]
     },
     "execution_count": 7,
     "metadata": {},
     "output_type": "execute_result"
    }
   ],
   "source": [
    "#approach 1 (use of len function)\n",
    "list=[1,3,4,5,6]\n",
    "def length(list):\n",
    "    return len(list)\n",
    "length(list)"
   ]
  },
  {
   "cell_type": "code",
   "execution_count": 8,
   "id": "c65dd8ba",
   "metadata": {},
   "outputs": [
    {
     "data": {
      "text/plain": [
       "5"
      ]
     },
     "execution_count": 8,
     "metadata": {},
     "output_type": "execute_result"
    }
   ],
   "source": [
    "#approach 2 (Native approach)\n",
    "def length(list):\n",
    "    count=0\n",
    "    for item in list:\n",
    "        count=count+1\n",
    "    return count\n",
    "length(list)\n",
    "    \n",
    "    "
   ]
  }
 ],
 "metadata": {
  "kernelspec": {
   "display_name": "Python 3 (ipykernel)",
   "language": "python",
   "name": "python3"
  },
  "language_info": {
   "codemirror_mode": {
    "name": "ipython",
    "version": 3
   },
   "file_extension": ".py",
   "mimetype": "text/x-python",
   "name": "python",
   "nbconvert_exporter": "python",
   "pygments_lexer": "ipython3",
   "version": "3.9.13"
  }
 },
 "nbformat": 4,
 "nbformat_minor": 5
}
