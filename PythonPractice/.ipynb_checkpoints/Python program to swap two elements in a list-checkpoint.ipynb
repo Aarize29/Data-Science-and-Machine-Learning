{
 "cells": [
  {
   "cell_type": "markdown",
   "id": "0510cf79",
   "metadata": {},
   "source": [
    "Python program to swap two elements in a list"
   ]
  },
  {
   "cell_type": "code",
   "execution_count": 17,
   "id": "5d07a8bd",
   "metadata": {},
   "outputs": [
    {
     "data": {
      "text/plain": [
       "[1, 6, 2, 4, 7]"
      ]
     },
     "execution_count": 17,
     "metadata": {},
     "output_type": "execute_result"
    }
   ],
   "source": [
    "#approach 1\n",
    "list=[1,4,2,6,7]\n",
    "def swapTwo(list,a,b):\n",
    "    list[a],list[b]=list[b],list[a]\n",
    "    return list\n",
    "a=2\n",
    "b=4\n",
    "swapTwo(list,a-1,b-1)"
   ]
  },
  {
   "cell_type": "code",
   "execution_count": 18,
   "id": "580b0516",
   "metadata": {},
   "outputs": [
    {
     "data": {
      "text/plain": [
       "[1, 6, 2, 4, 7]"
      ]
     },
     "execution_count": 18,
     "metadata": {},
     "output_type": "execute_result"
    }
   ],
   "source": [
    "#approach 2\n",
    "list=[1,4,2,6,7]\n",
    "def swapTwo(list,a,b):\n",
    "    temp=list[a]\n",
    "    list[a]=list[b]\n",
    "    list[b]=temp\n",
    "    return list\n",
    "a=2\n",
    "b=4\n",
    "swapTwo(list,a-1,b-1)\n",
    "    "
   ]
  },
  {
   "cell_type": "code",
   "execution_count": 14,
   "id": "9b1f364a",
   "metadata": {},
   "outputs": [
    {
     "data": {
      "text/plain": [
       "[1, 6, 2, 4, 7]"
      ]
     },
     "execution_count": 14,
     "metadata": {},
     "output_type": "execute_result"
    }
   ],
   "source": [
    "#approach 3\n",
    "list=[1,4,2,6,7]\n",
    "def swapTwo(list,a,b):\n",
    "    c=list.pop(a)\n",
    "    d=list.pop(b-1)  #b-1 becoz when we pop a , 1 element gets removed from the list so all the rest element get shifted towards left by 1 index\n",
    "    list.insert(a,d)\n",
    "    list.insert(b,c)\n",
    "    return list\n",
    "a=2\n",
    "b=4\n",
    "swapTwo(list,a-1,b-1)"
   ]
  },
  {
   "cell_type": "code",
   "execution_count": null,
   "id": "f123f780",
   "metadata": {},
   "outputs": [],
   "source": []
  }
 ],
 "metadata": {
  "kernelspec": {
   "display_name": "Python 3 (ipykernel)",
   "language": "python",
   "name": "python3"
  },
  "language_info": {
   "codemirror_mode": {
    "name": "ipython",
    "version": 3
   },
   "file_extension": ".py",
   "mimetype": "text/x-python",
   "name": "python",
   "nbconvert_exporter": "python",
   "pygments_lexer": "ipython3",
   "version": "3.9.13"
  }
 },
 "nbformat": 4,
 "nbformat_minor": 5
}
