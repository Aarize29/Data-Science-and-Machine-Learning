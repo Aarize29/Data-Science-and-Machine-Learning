{
 "cells": [
  {
   "cell_type": "markdown",
   "id": "540cfc9c",
   "metadata": {},
   "source": [
    "dictionary   #dictionary donot retain any order ,they are just key value pair"
   ]
  },
  {
   "cell_type": "code",
   "execution_count": 14,
   "id": "2b3eb362",
   "metadata": {},
   "outputs": [],
   "source": [
    "d={'key':'value', 'key2':'value2'}   #it behaves as same as hashtables"
   ]
  },
  {
   "cell_type": "code",
   "execution_count": 15,
   "id": "088783b7",
   "metadata": {},
   "outputs": [
    {
     "name": "stdout",
     "output_type": "stream",
     "text": [
      "value\n"
     ]
    }
   ],
   "source": [
    "print(d['key'])"
   ]
  },
  {
   "cell_type": "code",
   "execution_count": 16,
   "id": "3f7f0a73",
   "metadata": {},
   "outputs": [
    {
     "ename": "TypeError",
     "evalue": "unhashable type: 'slice'",
     "output_type": "error",
     "traceback": [
      "\u001b[1;31m---------------------------------------------------------------------------\u001b[0m",
      "\u001b[1;31mTypeError\u001b[0m                                 Traceback (most recent call last)",
      "\u001b[1;32m~\\AppData\\Local\\Temp\\ipykernel_11304\\755731616.py\u001b[0m in \u001b[0;36m<module>\u001b[1;34m\u001b[0m\n\u001b[1;32m----> 1\u001b[1;33m \u001b[0mprint\u001b[0m\u001b[1;33m(\u001b[0m\u001b[0md\u001b[0m\u001b[1;33m[\u001b[0m\u001b[1;33m:\u001b[0m\u001b[1;36m0\u001b[0m\u001b[1;33m]\u001b[0m\u001b[1;33m)\u001b[0m   \u001b[1;31m#not possible becoz its not a list , it holds the value as key-value pair\u001b[0m\u001b[1;33m\u001b[0m\u001b[1;33m\u001b[0m\u001b[0m\n\u001b[0m",
      "\u001b[1;31mTypeError\u001b[0m: unhashable type: 'slice'"
     ]
    }
   ],
   "source": [
    "print(d[:0])   #not possible becoz its not a list , it holds the value as key-value pair"
   ]
  },
  {
   "cell_type": "code",
   "execution_count": 17,
   "id": "619af445",
   "metadata": {},
   "outputs": [
    {
     "data": {
      "text/plain": [
       "'value2'"
      ]
     },
     "execution_count": 17,
     "metadata": {},
     "output_type": "execute_result"
    }
   ],
   "source": [
    "d['key2']"
   ]
  },
  {
   "cell_type": "code",
   "execution_count": 18,
   "id": "7adc6844",
   "metadata": {},
   "outputs": [],
   "source": [
    "d={'k1':[1,2,3]}"
   ]
  },
  {
   "cell_type": "code",
   "execution_count": 19,
   "id": "42657fe3",
   "metadata": {},
   "outputs": [
    {
     "data": {
      "text/plain": [
       "[1, 2, 3]"
      ]
     },
     "execution_count": 19,
     "metadata": {},
     "output_type": "execute_result"
    }
   ],
   "source": [
    "d['k1']"
   ]
  },
  {
   "cell_type": "code",
   "execution_count": 20,
   "id": "ae1ff438",
   "metadata": {},
   "outputs": [
    {
     "data": {
      "text/plain": [
       "2"
      ]
     },
     "execution_count": 20,
     "metadata": {},
     "output_type": "execute_result"
    }
   ],
   "source": [
    "d['k1'][1]   #it is like , mylist=d['k1'] which gives [1,2,3] then print(mylist[1]) which gives 2"
   ]
  },
  {
   "cell_type": "code",
   "execution_count": 21,
   "id": "b1f47f24",
   "metadata": {},
   "outputs": [],
   "source": [
    "d={'k1':{1:'name',2:[1,2,3]}}"
   ]
  },
  {
   "cell_type": "code",
   "execution_count": 22,
   "id": "428eea9f",
   "metadata": {},
   "outputs": [
    {
     "data": {
      "text/plain": [
       "{1: 'name', 2: [1, 2, 3]}"
      ]
     },
     "execution_count": 22,
     "metadata": {},
     "output_type": "execute_result"
    }
   ],
   "source": [
    "d['k1']"
   ]
  },
  {
   "cell_type": "code",
   "execution_count": 23,
   "id": "0af658b8",
   "metadata": {},
   "outputs": [
    {
     "data": {
      "text/plain": [
       "3"
      ]
     },
     "execution_count": 23,
     "metadata": {},
     "output_type": "execute_result"
    }
   ],
   "source": [
    "d['k1'][2][2]"
   ]
  },
  {
   "cell_type": "markdown",
   "id": "2678b85a",
   "metadata": {},
   "source": [
    "Booleans\n"
   ]
  },
  {
   "cell_type": "code",
   "execution_count": 24,
   "id": "fd246b94",
   "metadata": {},
   "outputs": [],
   "source": [
    "#just TRUE or FALSE"
   ]
  },
  {
   "cell_type": "code",
   "execution_count": 25,
   "id": "058a8173",
   "metadata": {},
   "outputs": [],
   "source": [
    "my_list=[1,2,3,4,5,6]\n"
   ]
  },
  {
   "cell_type": "markdown",
   "id": "b40ba1a5",
   "metadata": {},
   "source": [
    "tuples"
   ]
  },
  {
   "cell_type": "code",
   "execution_count": 26,
   "id": "aa5bff71",
   "metadata": {},
   "outputs": [],
   "source": [
    "t=(1,2,3,4)"
   ]
  },
  {
   "cell_type": "code",
   "execution_count": 27,
   "id": "656209d8",
   "metadata": {},
   "outputs": [
    {
     "data": {
      "text/plain": [
       "1"
      ]
     },
     "execution_count": 27,
     "metadata": {},
     "output_type": "execute_result"
    }
   ],
   "source": [
    "t[0]"
   ]
  },
  {
   "cell_type": "code",
   "execution_count": 28,
   "id": "7077eae0",
   "metadata": {},
   "outputs": [],
   "source": [
    "#difference between tuple and list is of brackets, In list we use [] and in tuples we use ()"
   ]
  },
  {
   "cell_type": "code",
   "execution_count": 29,
   "id": "1ede6134",
   "metadata": {},
   "outputs": [],
   "source": [
    " #tuples are immutable, they cannot be changed"
   ]
  },
  {
   "cell_type": "code",
   "execution_count": 30,
   "id": "3fb44f83",
   "metadata": {},
   "outputs": [
    {
     "name": "stdout",
     "output_type": "stream",
     "text": [
      "['NEW', 2, 3, 4, 5, 6]\n"
     ]
    }
   ],
   "source": [
    "#example\n",
    "my_list[0]='NEW'\n",
    "print(my_list)"
   ]
  },
  {
   "cell_type": "code",
   "execution_count": 32,
   "id": "f63d743a",
   "metadata": {},
   "outputs": [
    {
     "ename": "TypeError",
     "evalue": "'tuple' object does not support item assignment",
     "output_type": "error",
     "traceback": [
      "\u001b[1;31m---------------------------------------------------------------------------\u001b[0m",
      "\u001b[1;31mTypeError\u001b[0m                                 Traceback (most recent call last)",
      "\u001b[1;32m~\\AppData\\Local\\Temp\\ipykernel_11304\\141783321.py\u001b[0m in \u001b[0;36m<module>\u001b[1;34m\u001b[0m\n\u001b[1;32m----> 1\u001b[1;33m \u001b[0mt\u001b[0m\u001b[1;33m[\u001b[0m\u001b[1;36m0\u001b[0m\u001b[1;33m]\u001b[0m\u001b[1;33m=\u001b[0m\u001b[1;36m10\u001b[0m\u001b[1;33m\u001b[0m\u001b[1;33m\u001b[0m\u001b[0m\n\u001b[0m\u001b[0;32m      2\u001b[0m \u001b[0mprint\u001b[0m\u001b[1;33m(\u001b[0m\u001b[0mt\u001b[0m\u001b[1;33m)\u001b[0m\u001b[1;33m\u001b[0m\u001b[1;33m\u001b[0m\u001b[0m\n",
      "\u001b[1;31mTypeError\u001b[0m: 'tuple' object does not support item assignment"
     ]
    }
   ],
   "source": [
    "t[0]=10\n",
    "print(t)"
   ]
  },
  {
   "cell_type": "code",
   "execution_count": 33,
   "id": "57b1058d",
   "metadata": {},
   "outputs": [],
   "source": [
    "# When to use tuple:- when you wanna make sure that a user cannot change  the items inside of this sequence of object"
   ]
  },
  {
   "cell_type": "markdown",
   "id": "24677308",
   "metadata": {},
   "source": [
    "Sets"
   ]
  },
  {
   "cell_type": "code",
   "execution_count": 34,
   "id": "f34ebb9c",
   "metadata": {},
   "outputs": [],
   "source": [
    "# A set is a collection of unique elements, it looks like dictionary {} but it does not have key value pair as dictionary"
   ]
  },
  {
   "cell_type": "code",
   "execution_count": 35,
   "id": "e353c219",
   "metadata": {},
   "outputs": [],
   "source": [
    "s={1,2,3,3,4,3,4,5,6,5,6,7,7,7,8,9,9,8,9,10}"
   ]
  },
  {
   "cell_type": "code",
   "execution_count": 37,
   "id": "7842a4d5",
   "metadata": {},
   "outputs": [
    {
     "data": {
      "text/plain": [
       "{1, 2, 3, 4, 5, 6, 7, 8, 9, 10}"
      ]
     },
     "execution_count": 37,
     "metadata": {},
     "output_type": "execute_result"
    }
   ],
   "source": [
    "s    #it will print only unique elements"
   ]
  },
  {
   "cell_type": "code",
   "execution_count": 38,
   "id": "d9378c55",
   "metadata": {},
   "outputs": [],
   "source": [
    "#we can use set() function to grab a unique element in the list"
   ]
  },
  {
   "cell_type": "code",
   "execution_count": 40,
   "id": "baf697de",
   "metadata": {},
   "outputs": [
    {
     "data": {
      "text/plain": [
       "{1, 2, 3, 4, 5, 6}"
      ]
     },
     "execution_count": 40,
     "metadata": {},
     "output_type": "execute_result"
    }
   ],
   "source": [
    "set([1,1,1,3,2,4,5,6,4,6,])"
   ]
  },
  {
   "cell_type": "code",
   "execution_count": 41,
   "id": "ebde23d4",
   "metadata": {},
   "outputs": [],
   "source": [
    "s={1,2,3}\n",
    "s.add(5)"
   ]
  },
  {
   "cell_type": "code",
   "execution_count": 42,
   "id": "8fe7120a",
   "metadata": {},
   "outputs": [
    {
     "data": {
      "text/plain": [
       "{1, 2, 3, 5}"
      ]
     },
     "execution_count": 42,
     "metadata": {},
     "output_type": "execute_result"
    }
   ],
   "source": [
    "s"
   ]
  },
  {
   "cell_type": "code",
   "execution_count": 44,
   "id": "849dd4a0",
   "metadata": {},
   "outputs": [
    {
     "data": {
      "text/plain": [
       "{1, 2, 3, 5}"
      ]
     },
     "execution_count": 44,
     "metadata": {},
     "output_type": "execute_result"
    }
   ],
   "source": [
    "s.add(5)\n",
    "s   #no extra 5 will get added as we already added 5 in upper line"
   ]
  },
  {
   "cell_type": "markdown",
   "id": "56475c29",
   "metadata": {},
   "source": []
  },
  {
   "cell_type": "markdown",
   "id": "1c19821e",
   "metadata": {},
   "source": [
    "Camparision Operator"
   ]
  },
  {
   "cell_type": "code",
   "execution_count": 46,
   "id": "1fa36c63",
   "metadata": {},
   "outputs": [
    {
     "data": {
      "text/plain": [
       "False"
      ]
     },
     "execution_count": 46,
     "metadata": {},
     "output_type": "execute_result"
    }
   ],
   "source": [
    "1>2"
   ]
  },
  {
   "cell_type": "code",
   "execution_count": 47,
   "id": "f085dec7",
   "metadata": {},
   "outputs": [
    {
     "data": {
      "text/plain": [
       "True"
      ]
     },
     "execution_count": 47,
     "metadata": {},
     "output_type": "execute_result"
    }
   ],
   "source": [
    "1<2"
   ]
  },
  {
   "cell_type": "code",
   "execution_count": 48,
   "id": "1561b21c",
   "metadata": {},
   "outputs": [
    {
     "data": {
      "text/plain": [
       "True"
      ]
     },
     "execution_count": 48,
     "metadata": {},
     "output_type": "execute_result"
    }
   ],
   "source": [
    "1>3-3"
   ]
  },
  {
   "cell_type": "code",
   "execution_count": 49,
   "id": "7b2ed796",
   "metadata": {},
   "outputs": [
    {
     "data": {
      "text/plain": [
       "True"
      ]
     },
     "execution_count": 49,
     "metadata": {},
     "output_type": "execute_result"
    }
   ],
   "source": [
    "1<2and 2<3"
   ]
  },
  {
   "cell_type": "code",
   "execution_count": 52,
   "id": "2c998e64",
   "metadata": {},
   "outputs": [
    {
     "data": {
      "text/plain": [
       "False"
      ]
     },
     "execution_count": 52,
     "metadata": {},
     "output_type": "execute_result"
    }
   ],
   "source": [
    "(1>2) and (2<3)"
   ]
  },
  {
   "cell_type": "code",
   "execution_count": 53,
   "id": "4a55a995",
   "metadata": {},
   "outputs": [
    {
     "data": {
      "text/plain": [
       "True"
      ]
     },
     "execution_count": 53,
     "metadata": {},
     "output_type": "execute_result"
    }
   ],
   "source": [
    "(1>2) or (2<3)"
   ]
  },
  {
   "cell_type": "markdown",
   "id": "f910f21c",
   "metadata": {},
   "source": [
    "Decision Making"
   ]
  },
  {
   "cell_type": "code",
   "execution_count": 58,
   "id": "9c663cbb",
   "metadata": {},
   "outputs": [
    {
     "name": "stdout",
     "output_type": "stream",
     "text": [
      "1 chota hota hai 2 se madharchod\n"
     ]
    }
   ],
   "source": [
    "#Python doesn't use brackets , it uses spaces(identation) and in if, else, loop etc we use : at the end instead of {}\n",
    "if (1>2):\n",
    "    print(\"Yes 1 is greater\")\n",
    "else:\n",
    "    print(\"1 chota hota hai 2 se madharchod\")"
   ]
  },
  {
   "cell_type": "code",
   "execution_count": 59,
   "id": "dc8a43df",
   "metadata": {},
   "outputs": [],
   "source": [
    "#else if ni hota hai python me , elif hota hai"
   ]
  },
  {
   "cell_type": "code",
   "execution_count": null,
   "id": "25bd9ba7",
   "metadata": {},
   "outputs": [],
   "source": []
  }
 ],
 "metadata": {
  "kernelspec": {
   "display_name": "Python 3 (ipykernel)",
   "language": "python",
   "name": "python3"
  },
  "language_info": {
   "codemirror_mode": {
    "name": "ipython",
    "version": 3
   },
   "file_extension": ".py",
   "mimetype": "text/x-python",
   "name": "python",
   "nbconvert_exporter": "python",
   "pygments_lexer": "ipython3",
   "version": "3.9.13"
  }
 },
 "nbformat": 4,
 "nbformat_minor": 5
}
