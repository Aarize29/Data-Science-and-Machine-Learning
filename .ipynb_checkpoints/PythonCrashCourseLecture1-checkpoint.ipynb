{
 "cells": [
  {
   "cell_type": "code",
   "execution_count": 2,
   "id": "28755cfd",
   "metadata": {},
   "outputs": [
    {
     "name": "stdout",
     "output_type": "stream",
     "text": [
      "Bismillah Hir Rahmanir Rahim\n"
     ]
    }
   ],
   "source": [
    "print(\"Bismillah Hir Rahmanir Rahim\")"
   ]
  },
  {
   "cell_type": "markdown",
   "id": "93ce7e1b",
   "metadata": {},
   "source": [
    "Arithmetic Operations"
   ]
  },
  {
   "cell_type": "code",
   "execution_count": 14,
   "id": "c958f498",
   "metadata": {},
   "outputs": [
    {
     "data": {
      "text/plain": [
       "1"
      ]
     },
     "execution_count": 14,
     "metadata": {},
     "output_type": "execute_result"
    }
   ],
   "source": [
    "1 #integer"
   ]
  },
  {
   "cell_type": "code",
   "execution_count": 15,
   "id": "81d0938b",
   "metadata": {},
   "outputs": [
    {
     "data": {
      "text/plain": [
       "1.0"
      ]
     },
     "execution_count": 15,
     "metadata": {},
     "output_type": "execute_result"
    }
   ],
   "source": [
    "1.0 #float"
   ]
  },
  {
   "cell_type": "code",
   "execution_count": 16,
   "id": "009a4c7b",
   "metadata": {},
   "outputs": [
    {
     "data": {
      "text/plain": [
       "2"
      ]
     },
     "execution_count": 16,
     "metadata": {},
     "output_type": "execute_result"
    }
   ],
   "source": [
    "1+1"
   ]
  },
  {
   "cell_type": "code",
   "execution_count": 17,
   "id": "a3a5ba89",
   "metadata": {},
   "outputs": [
    {
     "data": {
      "text/plain": [
       "3"
      ]
     },
     "execution_count": 17,
     "metadata": {},
     "output_type": "execute_result"
    }
   ],
   "source": [
    "1*3"
   ]
  },
  {
   "cell_type": "code",
   "execution_count": 18,
   "id": "bf198517",
   "metadata": {},
   "outputs": [
    {
     "data": {
      "text/plain": [
       "0.2"
      ]
     },
     "execution_count": 18,
     "metadata": {},
     "output_type": "execute_result"
    }
   ],
   "source": [
    "1/5"
   ]
  },
  {
   "cell_type": "code",
   "execution_count": 19,
   "id": "e87f00fb",
   "metadata": {},
   "outputs": [
    {
     "data": {
      "text/plain": [
       "16"
      ]
     },
     "execution_count": 19,
     "metadata": {},
     "output_type": "execute_result"
    }
   ],
   "source": [
    "2**4 #exponents"
   ]
  },
  {
   "cell_type": "code",
   "execution_count": 20,
   "id": "501437c0",
   "metadata": {},
   "outputs": [
    {
     "data": {
      "text/plain": [
       "22"
      ]
     },
     "execution_count": 20,
     "metadata": {},
     "output_type": "execute_result"
    }
   ],
   "source": [
    "2 + 3 *5 +5   "
   ]
  },
  {
   "cell_type": "code",
   "execution_count": 21,
   "id": "70887098",
   "metadata": {},
   "outputs": [
    {
     "data": {
      "text/plain": [
       "50"
      ]
     },
     "execution_count": 21,
     "metadata": {},
     "output_type": "execute_result"
    }
   ],
   "source": [
    "(2+3)*(5+5)"
   ]
  },
  {
   "cell_type": "code",
   "execution_count": 22,
   "id": "97ea2ca9",
   "metadata": {},
   "outputs": [
    {
     "data": {
      "text/plain": [
       "1"
      ]
     },
     "execution_count": 22,
     "metadata": {},
     "output_type": "execute_result"
    }
   ],
   "source": [
    "10%3 #modulo"
   ]
  },
  {
   "cell_type": "markdown",
   "id": "524c9414",
   "metadata": {},
   "source": [
    "Variable assigments"
   ]
  },
  {
   "cell_type": "code",
   "execution_count": 1,
   "id": "0e30d598",
   "metadata": {},
   "outputs": [
    {
     "name": "stdout",
     "output_type": "stream",
     "text": [
      "100\n"
     ]
    }
   ],
   "source": [
    "var=10\n",
    "\n",
    "print(var**2)\n",
    "\n"
   ]
  },
  {
   "cell_type": "code",
   "execution_count": 2,
   "id": "acd5a985",
   "metadata": {},
   "outputs": [],
   "source": [
    "x=2\n",
    "y=3"
   ]
  },
  {
   "cell_type": "code",
   "execution_count": 3,
   "id": "70b43998",
   "metadata": {},
   "outputs": [
    {
     "data": {
      "text/plain": [
       "10"
      ]
     },
     "execution_count": 3,
     "metadata": {},
     "output_type": "execute_result"
    }
   ],
   "source": [
    "x+5+y"
   ]
  },
  {
   "cell_type": "code",
   "execution_count": 4,
   "id": "ace988ee",
   "metadata": {},
   "outputs": [],
   "source": [
    "x=x+2"
   ]
  },
  {
   "cell_type": "code",
   "execution_count": 5,
   "id": "37f8572e",
   "metadata": {},
   "outputs": [
    {
     "data": {
      "text/plain": [
       "4"
      ]
     },
     "execution_count": 5,
     "metadata": {},
     "output_type": "execute_result"
    }
   ],
   "source": [
    "x"
   ]
  },
  {
   "cell_type": "markdown",
   "id": "beb2719b",
   "metadata": {},
   "source": [
    "Strings\n"
   ]
  },
  {
   "cell_type": "code",
   "execution_count": 7,
   "id": "ddc35423",
   "metadata": {},
   "outputs": [
    {
     "data": {
      "text/plain": [
       "' single quotes or double quotes'"
      ]
     },
     "execution_count": 7,
     "metadata": {},
     "output_type": "execute_result"
    }
   ],
   "source": [
    "' single quotes ' 'or ' \"double quotes\""
   ]
  },
  {
   "cell_type": "markdown",
   "id": "5da7efd6",
   "metadata": {},
   "source": [
    "Printing Strings\n"
   ]
  },
  {
   "cell_type": "code",
   "execution_count": 8,
   "id": "f00cef19",
   "metadata": {},
   "outputs": [],
   "source": [
    "x='hello'"
   ]
  },
  {
   "cell_type": "code",
   "execution_count": 9,
   "id": "6ed9a916",
   "metadata": {},
   "outputs": [
    {
     "data": {
      "text/plain": [
       "'hello'"
      ]
     },
     "execution_count": 9,
     "metadata": {},
     "output_type": "execute_result"
    }
   ],
   "source": [
    "x\n"
   ]
  },
  {
   "cell_type": "code",
   "execution_count": 10,
   "id": "187a70bc",
   "metadata": {},
   "outputs": [
    {
     "name": "stdout",
     "output_type": "stream",
     "text": [
      "hello\n"
     ]
    }
   ],
   "source": [
    "print(x)"
   ]
  },
  {
   "cell_type": "code",
   "execution_count": 11,
   "id": "a95c392b",
   "metadata": {},
   "outputs": [],
   "source": [
    "#format print statement\n",
    "\n",
    "num=12\n",
    "name='Shams'"
   ]
  },
  {
   "cell_type": "code",
   "execution_count": 14,
   "id": "8150a2d4",
   "metadata": {},
   "outputs": [
    {
     "name": "stdout",
     "output_type": "stream",
     "text": [
      "My number is 12 and my name is Shams\n"
     ]
    }
   ],
   "source": [
    "print('My number is {} and my name is {}'.format(num,name))"
   ]
  },
  {
   "cell_type": "code",
   "execution_count": 17,
   "id": "fb4c7cdd",
   "metadata": {},
   "outputs": [
    {
     "name": "stdout",
     "output_type": "stream",
     "text": [
      "My number is 12 and my name is Shams, more 12\n"
     ]
    }
   ],
   "source": [
    "print('My number is {one} and my name is {two}, more {one}'.format(one=num,two=name))"
   ]
  },
  {
   "cell_type": "markdown",
   "id": "fe156f82",
   "metadata": {},
   "source": [
    "indexing string"
   ]
  },
  {
   "cell_type": "code",
   "execution_count": 18,
   "id": "c1d4c670",
   "metadata": {},
   "outputs": [],
   "source": [
    "s='hello'"
   ]
  },
  {
   "cell_type": "code",
   "execution_count": 19,
   "id": "87ca6001",
   "metadata": {},
   "outputs": [
    {
     "data": {
      "text/plain": [
       "'h'"
      ]
     },
     "execution_count": 19,
     "metadata": {},
     "output_type": "execute_result"
    }
   ],
   "source": [
    "s[0]"
   ]
  },
  {
   "cell_type": "code",
   "execution_count": 20,
   "id": "9857da2f",
   "metadata": {},
   "outputs": [
    {
     "name": "stdout",
     "output_type": "stream",
     "text": [
      "e\n"
     ]
    }
   ],
   "source": [
    "print(s[1]) #index"
   ]
  },
  {
   "cell_type": "code",
   "execution_count": 21,
   "id": "9336accb",
   "metadata": {},
   "outputs": [
    {
     "name": "stdout",
     "output_type": "stream",
     "text": [
      "o\n"
     ]
    }
   ],
   "source": [
    "print(s[-1]) #fromlast"
   ]
  },
  {
   "cell_type": "code",
   "execution_count": 27,
   "id": "92b6ec83",
   "metadata": {},
   "outputs": [],
   "source": [
    "s='abcdefghijklmnopqrstuvwxyz'"
   ]
  },
  {
   "cell_type": "code",
   "execution_count": 28,
   "id": "910f59c6",
   "metadata": {},
   "outputs": [
    {
     "data": {
      "text/plain": [
       "'abcdefghij'"
      ]
     },
     "execution_count": 28,
     "metadata": {},
     "output_type": "execute_result"
    }
   ],
   "source": [
    "s[0:10] #range"
   ]
  },
  {
   "cell_type": "code",
   "execution_count": 29,
   "id": "ad9af34a",
   "metadata": {},
   "outputs": [
    {
     "data": {
      "text/plain": [
       "'abcdefghijklmnopqrstuvwxyz'"
      ]
     },
     "execution_count": 29,
     "metadata": {},
     "output_type": "execute_result"
    }
   ],
   "source": [
    "s[0:26] "
   ]
  },
  {
   "cell_type": "code",
   "execution_count": 31,
   "id": "b0538778",
   "metadata": {},
   "outputs": [
    {
     "data": {
      "text/plain": [
       "'abcde'"
      ]
     },
     "execution_count": 31,
     "metadata": {},
     "output_type": "execute_result"
    }
   ],
   "source": [
    "s[:5] #upto 5 but no including 5"
   ]
  },
  {
   "cell_type": "code",
   "execution_count": 32,
   "id": "7a4a371e",
   "metadata": {},
   "outputs": [
    {
     "data": {
      "text/plain": [
       "'def'"
      ]
     },
     "execution_count": 32,
     "metadata": {},
     "output_type": "execute_result"
    }
   ],
   "source": [
    "s[3:6]"
   ]
  },
  {
   "cell_type": "markdown",
   "id": "6d78ae34",
   "metadata": {},
   "source": [
    "List\n"
   ]
  },
  {
   "cell_type": "code",
   "execution_count": 33,
   "id": "a4562620",
   "metadata": {},
   "outputs": [
    {
     "data": {
      "text/plain": [
       "['a', 'b', 'c']"
      ]
     },
     "execution_count": 33,
     "metadata": {},
     "output_type": "execute_result"
    }
   ],
   "source": [
    "['a', 'b','c']"
   ]
  },
  {
   "cell_type": "code",
   "execution_count": 34,
   "id": "23829abc",
   "metadata": {},
   "outputs": [],
   "source": [
    "my_list=[1,4,5,6,'a','aarize']"
   ]
  },
  {
   "cell_type": "code",
   "execution_count": 41,
   "id": "8b9b196c",
   "metadata": {},
   "outputs": [
    {
     "name": "stdout",
     "output_type": "stream",
     "text": [
      "6\n"
     ]
    }
   ],
   "source": [
    "print(my_list[3])"
   ]
  },
  {
   "cell_type": "code",
   "execution_count": 38,
   "id": "f97f8dab",
   "metadata": {},
   "outputs": [],
   "source": [
    "#toAdd elements at last we use append method\n",
    "\n",
    "my_list.append('siddique')"
   ]
  },
  {
   "cell_type": "code",
   "execution_count": 39,
   "id": "48f8f922",
   "metadata": {},
   "outputs": [
    {
     "name": "stdout",
     "output_type": "stream",
     "text": [
      "[1, 4, 5, 6, 'a', 'aarize', 'siddique']\n"
     ]
    }
   ],
   "source": [
    "print(my_list)"
   ]
  },
  {
   "cell_type": "code",
   "execution_count": 40,
   "id": "32a1100c",
   "metadata": {},
   "outputs": [
    {
     "data": {
      "text/plain": [
       "1"
      ]
     },
     "execution_count": 40,
     "metadata": {},
     "output_type": "execute_result"
    }
   ],
   "source": [
    "my_list[0]"
   ]
  },
  {
   "cell_type": "code",
   "execution_count": 42,
   "id": "2a50fc91",
   "metadata": {},
   "outputs": [
    {
     "name": "stdout",
     "output_type": "stream",
     "text": [
      "[1, 4, 5, 6, 'a']\n"
     ]
    }
   ],
   "source": [
    "print(my_list[:5])"
   ]
  },
  {
   "cell_type": "code",
   "execution_count": 43,
   "id": "c7682c1f",
   "metadata": {},
   "outputs": [],
   "source": [
    "my_list[0]='New'"
   ]
  },
  {
   "cell_type": "code",
   "execution_count": 44,
   "id": "3a1817c2",
   "metadata": {},
   "outputs": [
    {
     "data": {
      "text/plain": [
       "['New', 4, 5, 6, 'a', 'aarize', 'siddique']"
      ]
     },
     "execution_count": 44,
     "metadata": {},
     "output_type": "execute_result"
    }
   ],
   "source": [
    "my_list"
   ]
  },
  {
   "cell_type": "code",
   "execution_count": 45,
   "id": "76362907",
   "metadata": {},
   "outputs": [],
   "source": [
    "nest=[1,2,[3,4,5]]"
   ]
  },
  {
   "cell_type": "code",
   "execution_count": 46,
   "id": "c2443d6f",
   "metadata": {},
   "outputs": [
    {
     "data": {
      "text/plain": [
       "[1, 2, [3, 4, 5]]"
      ]
     },
     "execution_count": 46,
     "metadata": {},
     "output_type": "execute_result"
    }
   ],
   "source": [
    "nest"
   ]
  },
  {
   "cell_type": "code",
   "execution_count": 49,
   "id": "bd2e17c3",
   "metadata": {},
   "outputs": [
    {
     "data": {
      "text/plain": [
       "4"
      ]
     },
     "execution_count": 49,
     "metadata": {},
     "output_type": "execute_result"
    }
   ],
   "source": [
    "#grab 4 from nest\n",
    "nest[2][1]   #left to right"
   ]
  },
  {
   "cell_type": "code",
   "execution_count": null,
   "id": "c91050bb",
   "metadata": {},
   "outputs": [],
   "source": []
  }
 ],
 "metadata": {
  "kernelspec": {
   "display_name": "Python 3 (ipykernel)",
   "language": "python",
   "name": "python3"
  },
  "language_info": {
   "codemirror_mode": {
    "name": "ipython",
    "version": 3
   },
   "file_extension": ".py",
   "mimetype": "text/x-python",
   "name": "python",
   "nbconvert_exporter": "python",
   "pygments_lexer": "ipython3",
   "version": "3.9.13"
  }
 },
 "nbformat": 4,
 "nbformat_minor": 5
}
