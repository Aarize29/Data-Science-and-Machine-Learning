{
 "cells": [
  {
   "cell_type": "markdown",
   "id": "fd2c8740",
   "metadata": {},
   "source": [
    "Python program to interchange first and last elements in a list"
   ]
  },
  {
   "cell_type": "code",
   "execution_count": 2,
   "id": "bc67b4ce",
   "metadata": {},
   "outputs": [],
   "source": [
    "list=[1,2,3,4,5]"
   ]
  },
  {
   "cell_type": "code",
   "execution_count": 7,
   "id": "b6544f51",
   "metadata": {},
   "outputs": [
    {
     "data": {
      "text/plain": [
       "[1, 2, 3, 4, 5]"
      ]
     },
     "execution_count": 7,
     "metadata": {},
     "output_type": "execute_result"
    }
   ],
   "source": [
    "#approach 1\n",
    "def swap(list):\n",
    "    temp=list[0]\n",
    "    list[0]=list[len(list)-1]\n",
    "    list[len(list)-1]=temp\n",
    "    \n",
    "    return list\n",
    "swap(list)   "
   ]
  },
  {
   "cell_type": "code",
   "execution_count": 9,
   "id": "94c7c1df",
   "metadata": {},
   "outputs": [
    {
     "data": {
      "text/plain": [
       "[5, 2, 3, 4, 1]"
      ]
     },
     "execution_count": 9,
     "metadata": {},
     "output_type": "execute_result"
    }
   ],
   "source": [
    "#approach 2\n",
    "def swap(list):\n",
    "    a=list.pop(0)\n",
    "    b=list.pop(len(list)-1)\n",
    "    \n",
    "    list.insert(0,b)\n",
    "    list.append(a)\n",
    "    return list\n",
    "swap(list)"
   ]
  },
  {
   "cell_type": "code",
   "execution_count": 11,
   "id": "d625d2cb",
   "metadata": {},
   "outputs": [
    {
     "data": {
      "text/plain": [
       "[5, 2, 3, 4, 1]"
      ]
     },
     "execution_count": 11,
     "metadata": {},
     "output_type": "execute_result"
    }
   ],
   "source": [
    "#approach 3\n",
    "def swap(list):\n",
    "    list[0],list[-1]=list[-1],list[0]\n",
    "    return list\n",
    "swap(list)"
   ]
  },
  {
   "cell_type": "code",
   "execution_count": 15,
   "id": "e0d8cd99",
   "metadata": {},
   "outputs": [],
   "source": [
    "#approach 4\n",
    "# def swap(list):\n",
    "#     #use of * operand\n",
    "#     start,*middle, end=list\n",
    "#     list=[end,*middle,start]\n",
    "#     return list\n",
    "# swap(list)"
   ]
  }
 ],
 "metadata": {
  "kernelspec": {
   "display_name": "Python 3 (ipykernel)",
   "language": "python",
   "name": "python3"
  },
  "language_info": {
   "codemirror_mode": {
    "name": "ipython",
    "version": 3
   },
   "file_extension": ".py",
   "mimetype": "text/x-python",
   "name": "python",
   "nbconvert_exporter": "python",
   "pygments_lexer": "ipython3",
   "version": "3.9.13"
  }
 },
 "nbformat": 4,
 "nbformat_minor": 5
}
