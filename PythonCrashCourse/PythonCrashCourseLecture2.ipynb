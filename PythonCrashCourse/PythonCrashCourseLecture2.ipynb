{
 "cells": [
  {
   "cell_type": "markdown",
   "id": "e76fc51a",
   "metadata": {},
   "source": [
    "dictionary   #dictionary donot retain any order ,they are just key value pair"
   ]
  },
  {
   "cell_type": "code",
   "execution_count": 14,
   "id": "4e6ed1ba",
   "metadata": {},
   "outputs": [],
   "source": [
    "d={'key':'value', 'key2':'value2'}   #it behaves as same as hashtables"
   ]
  },
  {
   "cell_type": "code",
   "execution_count": 15,
   "id": "04f06217",
   "metadata": {},
   "outputs": [
    {
     "name": "stdout",
     "output_type": "stream",
     "text": [
      "value\n"
     ]
    }
   ],
   "source": [
    "print(d['key'])"
   ]
  },
  {
   "cell_type": "code",
   "execution_count": 16,
   "id": "99386254",
   "metadata": {},
   "outputs": [
    {
     "ename": "TypeError",
     "evalue": "unhashable type: 'slice'",
     "output_type": "error",
     "traceback": [
      "\u001b[1;31m---------------------------------------------------------------------------\u001b[0m",
      "\u001b[1;31mTypeError\u001b[0m                                 Traceback (most recent call last)",
      "\u001b[1;32m~\\AppData\\Local\\Temp\\ipykernel_11304\\755731616.py\u001b[0m in \u001b[0;36m<module>\u001b[1;34m\u001b[0m\n\u001b[1;32m----> 1\u001b[1;33m \u001b[0mprint\u001b[0m\u001b[1;33m(\u001b[0m\u001b[0md\u001b[0m\u001b[1;33m[\u001b[0m\u001b[1;33m:\u001b[0m\u001b[1;36m0\u001b[0m\u001b[1;33m]\u001b[0m\u001b[1;33m)\u001b[0m   \u001b[1;31m#not possible becoz its not a list , it holds the value as key-value pair\u001b[0m\u001b[1;33m\u001b[0m\u001b[1;33m\u001b[0m\u001b[0m\n\u001b[0m",
      "\u001b[1;31mTypeError\u001b[0m: unhashable type: 'slice'"
     ]
    }
   ],
   "source": [
    "print(d[:0])   #not possible becoz its not a list , it holds the value as key-value pair"
   ]
  },
  {
   "cell_type": "code",
   "execution_count": 17,
   "id": "bec025f2",
   "metadata": {},
   "outputs": [
    {
     "data": {
      "text/plain": [
       "'value2'"
      ]
     },
     "execution_count": 17,
     "metadata": {},
     "output_type": "execute_result"
    }
   ],
   "source": [
    "d['key2']"
   ]
  },
  {
   "cell_type": "code",
   "execution_count": 18,
   "id": "923d0b36",
   "metadata": {},
   "outputs": [],
   "source": [
    "d={'k1':[1,2,3]}"
   ]
  },
  {
   "cell_type": "code",
   "execution_count": 19,
   "id": "1f895c29",
   "metadata": {},
   "outputs": [
    {
     "data": {
      "text/plain": [
       "[1, 2, 3]"
      ]
     },
     "execution_count": 19,
     "metadata": {},
     "output_type": "execute_result"
    }
   ],
   "source": [
    "d['k1']"
   ]
  },
  {
   "cell_type": "code",
   "execution_count": 20,
   "id": "9c793ed2",
   "metadata": {},
   "outputs": [
    {
     "data": {
      "text/plain": [
       "2"
      ]
     },
     "execution_count": 20,
     "metadata": {},
     "output_type": "execute_result"
    }
   ],
   "source": [
    "d['k1'][1]   #it is like , mylist=d['k1'] which gives [1,2,3] then print(mylist[1]) which gives 2"
   ]
  },
  {
   "cell_type": "code",
   "execution_count": 21,
   "id": "926d0b25",
   "metadata": {},
   "outputs": [],
   "source": [
    "d={'k1':{1:'name',2:[1,2,3]}}"
   ]
  },
  {
   "cell_type": "code",
   "execution_count": 22,
   "id": "8cc552e0",
   "metadata": {},
   "outputs": [
    {
     "data": {
      "text/plain": [
       "{1: 'name', 2: [1, 2, 3]}"
      ]
     },
     "execution_count": 22,
     "metadata": {},
     "output_type": "execute_result"
    }
   ],
   "source": [
    "d['k1']"
   ]
  },
  {
   "cell_type": "code",
   "execution_count": 23,
   "id": "08a2daad",
   "metadata": {},
   "outputs": [
    {
     "data": {
      "text/plain": [
       "3"
      ]
     },
     "execution_count": 23,
     "metadata": {},
     "output_type": "execute_result"
    }
   ],
   "source": [
    "d['k1'][2][2]"
   ]
  },
  {
   "cell_type": "markdown",
   "id": "1ba8112e",
   "metadata": {},
   "source": [
    "Booleans\n"
   ]
  },
  {
   "cell_type": "code",
   "execution_count": 24,
   "id": "662ab57c",
   "metadata": {},
   "outputs": [],
   "source": [
    "#just TRUE or FALSE"
   ]
  },
  {
   "cell_type": "code",
   "execution_count": 25,
   "id": "98a89400",
   "metadata": {},
   "outputs": [],
   "source": [
    "my_list=[1,2,3,4,5,6]\n"
   ]
  },
  {
   "cell_type": "markdown",
   "id": "c42a338f",
   "metadata": {},
   "source": [
    "tuples"
   ]
  },
  {
   "cell_type": "code",
   "execution_count": 26,
   "id": "21b2f217",
   "metadata": {},
   "outputs": [],
   "source": [
    "t=(1,2,3,4)"
   ]
  },
  {
   "cell_type": "code",
   "execution_count": 27,
   "id": "609ea101",
   "metadata": {},
   "outputs": [
    {
     "data": {
      "text/plain": [
       "1"
      ]
     },
     "execution_count": 27,
     "metadata": {},
     "output_type": "execute_result"
    }
   ],
   "source": [
    "t[0]"
   ]
  },
  {
   "cell_type": "code",
   "execution_count": 28,
   "id": "12cf165a",
   "metadata": {},
   "outputs": [],
   "source": [
    "#difference between tuple and list is of brackets, In list we use [] and in tuples we use ()"
   ]
  },
  {
   "cell_type": "code",
   "execution_count": 29,
   "id": "155528d5",
   "metadata": {},
   "outputs": [],
   "source": [
    " #tuples are immutable, they cannot be changed"
   ]
  },
  {
   "cell_type": "code",
   "execution_count": 30,
   "id": "50b4c72f",
   "metadata": {},
   "outputs": [
    {
     "name": "stdout",
     "output_type": "stream",
     "text": [
      "['NEW', 2, 3, 4, 5, 6]\n"
     ]
    }
   ],
   "source": [
    "#example\n",
    "my_list[0]='NEW'\n",
    "print(my_list)"
   ]
  },
  {
   "cell_type": "code",
   "execution_count": 32,
   "id": "860f232f",
   "metadata": {},
   "outputs": [
    {
     "ename": "TypeError",
     "evalue": "'tuple' object does not support item assignment",
     "output_type": "error",
     "traceback": [
      "\u001b[1;31m---------------------------------------------------------------------------\u001b[0m",
      "\u001b[1;31mTypeError\u001b[0m                                 Traceback (most recent call last)",
      "\u001b[1;32m~\\AppData\\Local\\Temp\\ipykernel_11304\\141783321.py\u001b[0m in \u001b[0;36m<module>\u001b[1;34m\u001b[0m\n\u001b[1;32m----> 1\u001b[1;33m \u001b[0mt\u001b[0m\u001b[1;33m[\u001b[0m\u001b[1;36m0\u001b[0m\u001b[1;33m]\u001b[0m\u001b[1;33m=\u001b[0m\u001b[1;36m10\u001b[0m\u001b[1;33m\u001b[0m\u001b[1;33m\u001b[0m\u001b[0m\n\u001b[0m\u001b[0;32m      2\u001b[0m \u001b[0mprint\u001b[0m\u001b[1;33m(\u001b[0m\u001b[0mt\u001b[0m\u001b[1;33m)\u001b[0m\u001b[1;33m\u001b[0m\u001b[1;33m\u001b[0m\u001b[0m\n",
      "\u001b[1;31mTypeError\u001b[0m: 'tuple' object does not support item assignment"
     ]
    }
   ],
   "source": [
    "t[0]=10\n",
    "print(t)"
   ]
  },
  {
   "cell_type": "code",
   "execution_count": 33,
   "id": "c3699d53",
   "metadata": {},
   "outputs": [],
   "source": [
    "# When to use tuple:- when you wanna make sure that a user cannot change  the items inside of this sequence of object"
   ]
  },
  {
   "cell_type": "markdown",
   "id": "c08852fb",
   "metadata": {},
   "source": [
    "Sets"
   ]
  },
  {
   "cell_type": "code",
   "execution_count": 34,
   "id": "9bc11787",
   "metadata": {},
   "outputs": [],
   "source": [
    "# A set is a collection of unique elements, it looks like dictionary {} but it does not have key value pair as dictionary"
   ]
  },
  {
   "cell_type": "code",
   "execution_count": 35,
   "id": "1ad2373a",
   "metadata": {},
   "outputs": [],
   "source": [
    "s={1,2,3,3,4,3,4,5,6,5,6,7,7,7,8,9,9,8,9,10}"
   ]
  },
  {
   "cell_type": "code",
   "execution_count": 37,
   "id": "596db736",
   "metadata": {},
   "outputs": [
    {
     "data": {
      "text/plain": [
       "{1, 2, 3, 4, 5, 6, 7, 8, 9, 10}"
      ]
     },
     "execution_count": 37,
     "metadata": {},
     "output_type": "execute_result"
    }
   ],
   "source": [
    "s    #it will print only unique elements"
   ]
  },
  {
   "cell_type": "code",
   "execution_count": 38,
   "id": "210b27aa",
   "metadata": {},
   "outputs": [],
   "source": [
    "#we can use set() function to grab a unique element in the list"
   ]
  },
  {
   "cell_type": "code",
   "execution_count": 40,
   "id": "0f94bddd",
   "metadata": {},
   "outputs": [
    {
     "data": {
      "text/plain": [
       "{1, 2, 3, 4, 5, 6}"
      ]
     },
     "execution_count": 40,
     "metadata": {},
     "output_type": "execute_result"
    }
   ],
   "source": [
    "set([1,1,1,3,2,4,5,6,4,6,])"
   ]
  },
  {
   "cell_type": "code",
   "execution_count": 41,
   "id": "e1759343",
   "metadata": {},
   "outputs": [],
   "source": [
    "s={1,2,3}\n",
    "s.add(5)"
   ]
  },
  {
   "cell_type": "code",
   "execution_count": 42,
   "id": "bc2f2f6a",
   "metadata": {},
   "outputs": [
    {
     "data": {
      "text/plain": [
       "{1, 2, 3, 5}"
      ]
     },
     "execution_count": 42,
     "metadata": {},
     "output_type": "execute_result"
    }
   ],
   "source": [
    "s"
   ]
  },
  {
   "cell_type": "code",
   "execution_count": 44,
   "id": "da545478",
   "metadata": {},
   "outputs": [
    {
     "data": {
      "text/plain": [
       "{1, 2, 3, 5}"
      ]
     },
     "execution_count": 44,
     "metadata": {},
     "output_type": "execute_result"
    }
   ],
   "source": [
    "s.add(5)\n",
    "s   #no extra 5 will get added as we already added 5 in upper line"
   ]
  },
  {
   "cell_type": "markdown",
   "id": "376f406a",
   "metadata": {},
   "source": []
  },
  {
   "cell_type": "markdown",
   "id": "81ca0a2b",
   "metadata": {},
   "source": [
    "Camparision Operator"
   ]
  },
  {
   "cell_type": "code",
   "execution_count": 46,
   "id": "cb24a1b7",
   "metadata": {},
   "outputs": [
    {
     "data": {
      "text/plain": [
       "False"
      ]
     },
     "execution_count": 46,
     "metadata": {},
     "output_type": "execute_result"
    }
   ],
   "source": [
    "1>2"
   ]
  },
  {
   "cell_type": "code",
   "execution_count": 47,
   "id": "5821595a",
   "metadata": {},
   "outputs": [
    {
     "data": {
      "text/plain": [
       "True"
      ]
     },
     "execution_count": 47,
     "metadata": {},
     "output_type": "execute_result"
    }
   ],
   "source": [
    "1<2"
   ]
  },
  {
   "cell_type": "code",
   "execution_count": 48,
   "id": "436f894c",
   "metadata": {},
   "outputs": [
    {
     "data": {
      "text/plain": [
       "True"
      ]
     },
     "execution_count": 48,
     "metadata": {},
     "output_type": "execute_result"
    }
   ],
   "source": [
    "1>3-3"
   ]
  },
  {
   "cell_type": "code",
   "execution_count": 49,
   "id": "6c5cced9",
   "metadata": {},
   "outputs": [
    {
     "data": {
      "text/plain": [
       "True"
      ]
     },
     "execution_count": 49,
     "metadata": {},
     "output_type": "execute_result"
    }
   ],
   "source": [
    "1<2and 2<3"
   ]
  },
  {
   "cell_type": "code",
   "execution_count": 52,
   "id": "b05bd7d0",
   "metadata": {},
   "outputs": [
    {
     "data": {
      "text/plain": [
       "False"
      ]
     },
     "execution_count": 52,
     "metadata": {},
     "output_type": "execute_result"
    }
   ],
   "source": [
    "(1>2) and (2<3)"
   ]
  },
  {
   "cell_type": "code",
   "execution_count": 53,
   "id": "0df701e7",
   "metadata": {},
   "outputs": [
    {
     "data": {
      "text/plain": [
       "True"
      ]
     },
     "execution_count": 53,
     "metadata": {},
     "output_type": "execute_result"
    }
   ],
   "source": [
    "(1>2) or (2<3)"
   ]
  },
  {
   "cell_type": "markdown",
   "id": "3390160e",
   "metadata": {},
   "source": [
    "Decision Making"
   ]
  },
  {
   "cell_type": "code",
   "execution_count": 58,
   "id": "b91ef74f",
   "metadata": {},
   "outputs": [
    {
     "name": "stdout",
     "output_type": "stream",
     "text": [
      "1 chota hota hai 2 se madharchod\n"
     ]
    }
   ],
   "source": [
    "#Python doesn't use brackets , it uses spaces(identation) and in if, else, loop etc we use : at the end instead of {}\n",
    "if (1>2):\n",
    "    print(\"Yes 1 is greater\")\n",
    "else:\n",
    "    print(\"1 chota hota hai 2 se madharchod\")"
   ]
  },
  {
   "cell_type": "code",
   "execution_count": 59,
   "id": "f244e8ed",
   "metadata": {},
   "outputs": [],
   "source": [
    "#else if ni hota hai python me , elif hota hai"
   ]
  },
  {
   "cell_type": "code",
   "execution_count": null,
   "id": "c4e41761",
   "metadata": {},
   "outputs": [],
   "source": []
  }
 ],
 "metadata": {
  "kernelspec": {
   "display_name": "Python 3 (ipykernel)",
   "language": "python",
   "name": "python3"
  },
  "language_info": {
   "codemirror_mode": {
    "name": "ipython",
    "version": 3
   },
   "file_extension": ".py",
   "mimetype": "text/x-python",
   "name": "python",
   "nbconvert_exporter": "python",
   "pygments_lexer": "ipython3",
   "version": "3.9.13"
  }
 },
 "nbformat": 4,
 "nbformat_minor": 5
}
